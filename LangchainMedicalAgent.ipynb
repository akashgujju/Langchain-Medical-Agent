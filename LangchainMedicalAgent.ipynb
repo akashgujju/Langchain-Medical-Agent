{
  "nbformat": 4,
  "nbformat_minor": 0,
  "metadata": {
    "colab": {
      "provenance": []
    },
    "kernelspec": {
      "name": "python3",
      "display_name": "Python 3"
    },
    "language_info": {
      "name": "python"
    }
  },
  "cells": [
    {
      "cell_type": "code",
      "execution_count": 11,
      "metadata": {
        "id": "RRYSu48huSUW",
        "outputId": "6e140bc5-e034-46dd-d067-26a705976a5f",
        "colab": {
          "base_uri": "https://localhost:8080/"
        }
      },
      "outputs": [
        {
          "output_type": "stream",
          "name": "stdout",
          "text": [
            "Name: langchain\n",
            "Version: 0.0.200\n",
            "Summary: Building applications with LLMs through composability\n",
            "Home-page: https://www.github.com/hwchase17/langchain\n",
            "Author: \n",
            "Author-email: \n",
            "License: MIT\n",
            "Location: /usr/local/lib/python3.10/dist-packages\n",
            "Requires: aiohttp, async-timeout, dataclasses-json, langchainplus-sdk, numexpr, numpy, openapi-schema-pydantic, pydantic, PyYAML, requests, SQLAlchemy, tenacity\n",
            "Required-by: \n",
            "Looking in indexes: https://pypi.org/simple, https://us-python.pkg.dev/colab-wheels/public/simple/\n",
            "Collecting openai\n",
            "  Downloading openai-0.27.8-py3-none-any.whl (73 kB)\n",
            "\u001b[2K     \u001b[90m━━━━━━━━━━━━━━━━━━━━━━━━━━━━━━━━━━━━━━━━\u001b[0m \u001b[32m73.6/73.6 kB\u001b[0m \u001b[31m4.7 MB/s\u001b[0m eta \u001b[36m0:00:00\u001b[0m\n",
            "\u001b[?25hRequirement already satisfied: requests>=2.20 in /usr/local/lib/python3.10/dist-packages (from openai) (2.27.1)\n",
            "Requirement already satisfied: tqdm in /usr/local/lib/python3.10/dist-packages (from openai) (4.65.0)\n",
            "Requirement already satisfied: aiohttp in /usr/local/lib/python3.10/dist-packages (from openai) (3.8.4)\n",
            "Requirement already satisfied: urllib3<1.27,>=1.21.1 in /usr/local/lib/python3.10/dist-packages (from requests>=2.20->openai) (1.26.15)\n",
            "Requirement already satisfied: certifi>=2017.4.17 in /usr/local/lib/python3.10/dist-packages (from requests>=2.20->openai) (2022.12.7)\n",
            "Requirement already satisfied: charset-normalizer~=2.0.0 in /usr/local/lib/python3.10/dist-packages (from requests>=2.20->openai) (2.0.12)\n",
            "Requirement already satisfied: idna<4,>=2.5 in /usr/local/lib/python3.10/dist-packages (from requests>=2.20->openai) (3.4)\n",
            "Requirement already satisfied: attrs>=17.3.0 in /usr/local/lib/python3.10/dist-packages (from aiohttp->openai) (23.1.0)\n",
            "Requirement already satisfied: multidict<7.0,>=4.5 in /usr/local/lib/python3.10/dist-packages (from aiohttp->openai) (6.0.4)\n",
            "Requirement already satisfied: async-timeout<5.0,>=4.0.0a3 in /usr/local/lib/python3.10/dist-packages (from aiohttp->openai) (4.0.2)\n",
            "Requirement already satisfied: yarl<2.0,>=1.0 in /usr/local/lib/python3.10/dist-packages (from aiohttp->openai) (1.9.2)\n",
            "Requirement already satisfied: frozenlist>=1.1.1 in /usr/local/lib/python3.10/dist-packages (from aiohttp->openai) (1.3.3)\n",
            "Requirement already satisfied: aiosignal>=1.1.2 in /usr/local/lib/python3.10/dist-packages (from aiohttp->openai) (1.3.1)\n",
            "Installing collected packages: openai\n",
            "Successfully installed openai-0.27.8\n"
          ]
        }
      ],
      "source": [
        "!pip -q install langchain tiktoken duckduckgo-search\n",
        "!pip show langchain\n",
        "!pip install openai"
      ]
    },
    {
      "cell_type": "code",
      "source": [
        "import os\n",
        "os.environ[\"OPENAI_API_KEY\"] = \"\""
      ],
      "metadata": {
        "id": "dNA4TsHpu6OM"
      },
      "execution_count": 2,
      "outputs": []
    },
    {
      "cell_type": "markdown",
      "source": [
        "## Importing Necessary Packages\n",
        "\n",
        "\n"
      ],
      "metadata": {
        "id": "HqwsGJDhvAQ5"
      }
    },
    {
      "cell_type": "code",
      "source": [
        "from langchain.agents import Tool, AgentExecutor, LLMSingleActionAgent, AgentOutputParser\n",
        "from langchain.prompts import StringPromptTemplate\n",
        "from langchain import OpenAI, LLMChain\n",
        "from langchain.tools import DuckDuckGoSearchRun\n",
        "from typing import List, Union\n",
        "from langchain.schema import AgentAction, AgentFinish\n",
        "import re\n",
        "import langchain"
      ],
      "metadata": {
        "id": "nBKP5V4Aifx6"
      },
      "execution_count": 3,
      "outputs": []
    },
    {
      "cell_type": "markdown",
      "source": [
        "## Setup Tools"
      ],
      "metadata": {
        "id": "5TTimfydoIM7"
      }
    },
    {
      "cell_type": "code",
      "source": [
        "search = DuckDuckGoSearchRun()\n",
        "def duck_wrapper(input_text):\n",
        "    search_results = search.run(f\"site:webmd.com {input_text}\")\n",
        "    return search_results\n",
        "\n",
        "tools = [\n",
        "    Tool(\n",
        "        name = \"Search WebMD\",\n",
        "        func=duck_wrapper,\n",
        "        description=\"useful for when you need to answer medical and pharmalogical questions\"\n",
        "    )\n",
        "]"
      ],
      "metadata": {
        "id": "gqR4C-XSy46b"
      },
      "execution_count": 4,
      "outputs": []
    },
    {
      "cell_type": "markdown",
      "source": [
        "## Prompt Template\n",
        "Writing the Prompt using ReACT"
      ],
      "metadata": {
        "id": "BiTC5VdwoKpv"
      }
    },
    {
      "cell_type": "code",
      "source": [
        "# Set up the base template\n",
        "template = \"\"\"Answer the following questions as best you can, but speaking as medical professional. You have access to the following tools:\n",
        "\n",
        "{tools}\n",
        "\n",
        "Use the following format:\n",
        "\n",
        "Question: the input question you must answer\n",
        "Thought: you should always think about what to do\n",
        "Action: the action to take, should be one of [{tool_names}]\n",
        "Action Input: the input to the action\n",
        "Observation: the result of the action\n",
        "... (this Thought/Action/Action Input/Observation can repeat N times)\n",
        "Thought: I now know the final answer\n",
        "Final Answer: the final answer to the original input question\n",
        "\n",
        "Begin! Remember to answer as a compansionate medical professional when giving your final answer.\n",
        "\n",
        "Question: {input}\n",
        "{agent_scratchpad}\"\"\""
      ],
      "metadata": {
        "id": "5wJQ6rFxoTFS"
      },
      "execution_count": 5,
      "outputs": []
    },
    {
      "cell_type": "code",
      "source": [
        "class CustomPromptTemplate(StringPromptTemplate):\n",
        "    template: str\n",
        "    tools: List[Tool]\n",
        "\n",
        "    def format(self, **kwargs) -> str:\n",
        "        intermediate_steps = kwargs.pop(\"intermediate_steps\")\n",
        "        thoughts = \"\"\n",
        "        for action, observation in intermediate_steps:\n",
        "            thoughts += action.log\n",
        "            thoughts += f\"\\nObservation: {observation}\\nThought: \"\n",
        "        kwargs[\"agent_scratchpad\"] = thoughts\n",
        "        kwargs[\"tools\"] = \"\\n\".join([f\"{tool.name}: {tool.description}\" for tool in self.tools])\n",
        "        kwargs[\"tool_names\"] = \", \".join([tool.name for tool in self.tools])\n",
        "        return self.template.format(**kwargs)"
      ],
      "metadata": {
        "id": "DBGFU6eipdw-"
      },
      "execution_count": 6,
      "outputs": []
    },
    {
      "cell_type": "code",
      "source": [
        "prompt = CustomPromptTemplate(\n",
        "    template=template,\n",
        "    tools=tools,\n",
        "    input_variables=[\"input\", \"intermediate_steps\"]\n",
        ")"
      ],
      "metadata": {
        "id": "fwau_HsGpjnv"
      },
      "execution_count": 7,
      "outputs": []
    },
    {
      "cell_type": "code",
      "source": [
        "class CustomOutputParser(AgentOutputParser):\n",
        "    def parse(self, llm_output: str) -> Union[AgentAction, AgentFinish]:\n",
        "        if \"Final Answer:\" in llm_output:\n",
        "            return AgentFinish(\n",
        "                return_values={\"output\": llm_output.split(\"Final Answer:\")[-1].strip()},\n",
        "                log=llm_output,\n",
        "            )\n",
        "\n",
        "        regex = r\"Action\\s*\\d*\\s*:(.*?)\\nAction\\s*\\d*\\s*Input\\s*\\d*\\s*:[\\s]*(.*)\"\n",
        "        match = re.search(regex, llm_output, re.DOTALL)\n",
        "        if not match:\n",
        "            raise ValueError(f\"Could not parse LLM output: `{llm_output}`\")\n",
        "        action = match.group(1).strip()\n",
        "        action_input = match.group(2)\n",
        "\n",
        "        return AgentAction(tool=action, tool_input=action_input.strip(\" \").strip('\"'), log=llm_output)"
      ],
      "metadata": {
        "id": "uy5ZFci1plim"
      },
      "execution_count": 8,
      "outputs": []
    },
    {
      "cell_type": "code",
      "source": [
        "output_parser = CustomOutputParser()"
      ],
      "metadata": {
        "id": "UXXU8Dxtpygn"
      },
      "execution_count": 9,
      "outputs": []
    },
    {
      "cell_type": "markdown",
      "source": [
        "## Set up LLM\n",
        "Choose the LLM you want to use!"
      ],
      "metadata": {
        "id": "gJvyjKIPp4Pr"
      }
    },
    {
      "cell_type": "code",
      "source": [
        "llm = OpenAI(temperature=0)"
      ],
      "metadata": {
        "id": "ot2zRfIgp3Hp"
      },
      "execution_count": 12,
      "outputs": []
    },
    {
      "cell_type": "markdown",
      "source": [
        "## Set up the Agent\n",
        "We can now combine everything to set up our agent"
      ],
      "metadata": {
        "id": "TcUy_X4WqFHL"
      }
    },
    {
      "cell_type": "code",
      "source": [
        "llm_chain = LLMChain(llm=llm, prompt=prompt)"
      ],
      "metadata": {
        "id": "Xrv4LMc_qF38"
      },
      "execution_count": 13,
      "outputs": []
    },
    {
      "cell_type": "code",
      "source": [
        "tool_names = [tool.name for tool in tools]\n",
        "\n",
        "agent = LLMSingleActionAgent(\n",
        "    llm_chain=llm_chain,\n",
        "    output_parser=output_parser,\n",
        "    stop=[\"\\nObservation:\"],\n",
        "    allowed_tools=tool_names\n",
        ")"
      ],
      "metadata": {
        "id": "EfhRkuBXqKl5"
      },
      "execution_count": 14,
      "outputs": []
    },
    {
      "cell_type": "code",
      "source": [
        "agent_executor = AgentExecutor.from_agent_and_tools(agent=agent,\n",
        "                                                    tools=tools,\n",
        "                                                    verbose=True)"
      ],
      "metadata": {
        "id": "2zkQ-jLwqMX9"
      },
      "execution_count": 15,
      "outputs": []
    },
    {
      "cell_type": "code",
      "source": [
        "agent_executor.run(\"How can I treat a swollen ankle?\")"
      ],
      "metadata": {
        "colab": {
          "base_uri": "https://localhost:8080/",
          "height": 448
        },
        "id": "5pajWUheqY-e",
        "outputId": "778cad35-ee0f-456e-e489-f180ec08441e"
      },
      "execution_count": 16,
      "outputs": [
        {
          "output_type": "stream",
          "name": "stdout",
          "text": [
            "\n",
            "\n",
            "\u001b[1m> Entering new  chain...\u001b[0m\n",
            "\u001b[32;1m\u001b[1;3mThought: Swelling can be caused by a variety of conditions, so I should research the cause before treating the symptom.\n",
            "Action: Search WebMD\n",
            "Action Input: Swollen ankle\u001b[0m"
          ]
        },
        {
          "output_type": "stream",
          "name": "stderr",
          "text": [
            "/usr/local/lib/python3.10/dist-packages/duckduckgo_search/compat.py:20: UserWarning: ddg is deprecated. Use DDGS().text() generator\n",
            "  warnings.warn(\"ddg is deprecated. Use DDGS().text() generator\")\n",
            "/usr/local/lib/python3.10/dist-packages/duckduckgo_search/compat.py:22: UserWarning: parameter time is deprecated, use parameter timelimit\n",
            "  warnings.warn(\"parameter time is deprecated, use parameter timelimit\")\n",
            "/usr/local/lib/python3.10/dist-packages/duckduckgo_search/compat.py:24: UserWarning: parameter page is deprecated, use DDGS().text() generator\n",
            "  warnings.warn(\"parameter page is deprecated, use DDGS().text() generator\")\n",
            "/usr/local/lib/python3.10/dist-packages/duckduckgo_search/compat.py:26: UserWarning: parameter max_results is deprecated, use DDGS().text()\n",
            "  warnings.warn(\"parameter max_results is deprecated, use DDGS().text()\")\n"
          ]
        },
        {
          "output_type": "stream",
          "name": "stdout",
          "text": [
            "\n",
            "\n",
            "Observation:\u001b[36;1m\u001b[1;3mWeakness, swelling, and pain are the most common myositis symptoms. Myositis causes include infection, injury, autoimmune conditions, and drug side effects. Treatment of myositis varies according ... The outside of the knee and ankle; The top of the foot; Ganglion Cyst Symptoms. ... Swelling that may appear over time or suddenly. It may get smaller in size or even go away and come back. 6. Sudden, intense chest pain could mean the clot has broken off and caused a PE. Or it could be a sign that a clot in your artery gave you a heart attack. If so, you also might feel pain in your ... Gout. It's a form of arthritis that causes sudden pain, redness, swelling, and stiffness. It usually affects the large joint of the big toe, but it also can flare in the foot, ankle, or knees ... Lung congestion can also cause a dry, hacking cough or wheezing. Fluid and water retention. Less blood to your kidneys causes fluid and water retention, resulting in swollen ankles, legs, abdomen ...\u001b[0m\n",
            "\u001b[32;1m\u001b[1;3m I now have a better understanding of the possible causes of a swollen ankle and the treatments available.\n",
            "Final Answer: It is important to determine the cause of the swollen ankle before beginning treatment. Depending on the cause, treatment may include rest, elevation, compression, medications, or physical therapy. If the cause is an infection, it may require antibiotics. If the cause is an autoimmune condition, it may require immunosuppressant medications. It is important to speak with your doctor to determine the best course of treatment for your individual situation.\u001b[0m\n",
            "\n",
            "\u001b[1m> Finished chain.\u001b[0m\n"
          ]
        },
        {
          "output_type": "execute_result",
          "data": {
            "text/plain": [
              "'It is important to determine the cause of the swollen ankle before beginning treatment. Depending on the cause, treatment may include rest, elevation, compression, medications, or physical therapy. If the cause is an infection, it may require antibiotics. If the cause is an autoimmune condition, it may require immunosuppressant medications. It is important to speak with your doctor to determine the best course of treatment for your individual situation.'"
            ],
            "application/vnd.google.colaboratory.intrinsic+json": {
              "type": "string"
            }
          },
          "metadata": {},
          "execution_count": 16
        }
      ]
    },
    {
      "cell_type": "markdown",
      "source": [
        "### in Debug mode"
      ],
      "metadata": {
        "id": "NXnlu-fj5XLa"
      }
    },
    {
      "cell_type": "code",
      "source": [
        "langchain.debug = True"
      ],
      "metadata": {
        "id": "Zi2la8Td5bEf"
      },
      "execution_count": 17,
      "outputs": []
    },
    {
      "cell_type": "code",
      "source": [
        "agent_executor.run(\"How can I treat a swollen ankle?\")"
      ],
      "metadata": {
        "colab": {
          "base_uri": "https://localhost:8080/",
          "height": 1000
        },
        "id": "aMwrWML65Z5Z",
        "outputId": "2b4b0da8-e285-42fa-cf53-469661c722b7"
      },
      "execution_count": 18,
      "outputs": [
        {
          "output_type": "stream",
          "name": "stdout",
          "text": [
            "\u001b[32;1m\u001b[1;3m[chain/start]\u001b[0m \u001b[1m[1:chain:AgentExecutor] Entering Chain run with input:\n",
            "\u001b[0m{\n",
            "  \"input\": \"How can I treat a spained ankle?\"\n",
            "}\n",
            "\u001b[32;1m\u001b[1;3m[chain/start]\u001b[0m \u001b[1m[1:chain:AgentExecutor > 2:chain:LLMChain] Entering Chain run with input:\n",
            "\u001b[0m{\n",
            "  \"intermediate_steps\": [],\n",
            "  \"stop\": [\n",
            "    \"\\nObservation:\"\n",
            "  ],\n",
            "  \"input\": \"How can I treat a spained ankle?\"\n",
            "}\n",
            "\u001b[32;1m\u001b[1;3m[llm/start]\u001b[0m \u001b[1m[1:chain:AgentExecutor > 2:chain:LLMChain > 3:llm:OpenAI] Entering LLM run with input:\n",
            "\u001b[0m{\n",
            "  \"prompts\": [\n",
            "    \"Answer the following questions as best you can, but speaking as medical professional. You have access to the following tools:\\n\\nSearch WebMD: useful for when you need to answer medical and pharmalogical questions\\n\\nUse the following format:\\n\\nQuestion: the input question you must answer\\nThought: you should always think about what to do\\nAction: the action to take, should be one of [Search WebMD]\\nAction Input: the input to the action\\nObservation: the result of the action\\n... (this Thought/Action/Action Input/Observation can repeat N times)\\nThought: I now know the final answer\\nFinal Answer: the final answer to the original input question\\n\\nBegin! Remember to answer as a compansionate medical professional when giving your final answer.\\n\\nQuestion: How can I treat a spained ankle?\"\n",
            "  ]\n",
            "}\n",
            "\u001b[36;1m\u001b[1;3m[llm/end]\u001b[0m \u001b[1m[1:chain:AgentExecutor > 2:chain:LLMChain > 3:llm:OpenAI] [2.51s] Exiting LLM run with output:\n",
            "\u001b[0m{\n",
            "  \"generations\": [\n",
            "    [\n",
            "      {\n",
            "        \"text\": \"Thought: I need to find out what the best treatment is for a sprain.\\nAction: Search WebMD\\nAction Input: \\\"sprained ankle treatment\\\"\",\n",
            "        \"generation_info\": {\n",
            "          \"finish_reason\": \"stop\",\n",
            "          \"logprobs\": null\n",
            "        }\n",
            "      }\n",
            "    ]\n",
            "  ],\n",
            "  \"llm_output\": {\n",
            "    \"token_usage\": {\n",
            "      \"completion_tokens\": 34,\n",
            "      \"prompt_tokens\": 180,\n",
            "      \"total_tokens\": 214\n",
            "    },\n",
            "    \"model_name\": \"text-davinci-003\"\n",
            "  },\n",
            "  \"run\": null\n",
            "}\n",
            "\u001b[36;1m\u001b[1;3m[chain/end]\u001b[0m \u001b[1m[1:chain:AgentExecutor > 2:chain:LLMChain] [2.52s] Exiting Chain run with output:\n",
            "\u001b[0m{\n",
            "  \"text\": \"Thought: I need to find out what the best treatment is for a sprain.\\nAction: Search WebMD\\nAction Input: \\\"sprained ankle treatment\\\"\"\n",
            "}\n",
            "\u001b[32;1m\u001b[1;3m[tool/start]\u001b[0m \u001b[1m[1:chain:AgentExecutor > 4:tool:Search WebMD] Entering Tool run with input:\n",
            "\u001b[0m\"sprained ankle treatment\"\n",
            "\u001b[32;1m\u001b[1;3m[tool/start]\u001b[0m \u001b[1m[1:tool:DuckDuckGo Search] Entering Tool run with input:\n",
            "\u001b[0m\"site:webmd.com sprained ankle treatment\"\n",
            "\u001b[36;1m\u001b[1;3m[tool/end]\u001b[0m \u001b[1m[1:tool:DuckDuckGo Search] [827.021ms] Exiting Tool run with output:\n",
            "\u001b[0m\"If you can't put weight on a sprained or strained knee or ankle, your doctor may suggest a cane, crutch, brace, or walking boot to help as you heal. If you need a brace or assistive walking... RICE 2 /14 It stands for rest, ice, compress, and elevate, and it's the go-to treatment for minor sprains and bruising. Ice the injury as soon as possible and put pressure on it with an elastic... Your doctor will recommend physical therapy to strengthen your ankle and increase your range of motion. You'll get an X-ray about 6 weeks after surgery. If your ankle is healing well, your... Large Scrapes: Cover Them Up 9 /11 Scrapes that cover a large area should be kept moist to help promote healing. Antibiotic ointment or moisture-enhancing bandages, also called occlusive bandages,... Medical Treatment To relieve metatarsalgia pain, the doctor may have you: Stay off your feet. Avoid high impact activities for a while and prop up your injured foot when you can. Ice the...\"\n",
            "\u001b[36;1m\u001b[1;3m[tool/end]\u001b[0m \u001b[1m[1:chain:AgentExecutor > 4:tool:Search WebMD] [828.073ms] Exiting Tool run with output:\n",
            "\u001b[0m\"If you can't put weight on a sprained or strained knee or ankle, your doctor may suggest a cane, crutch, brace, or walking boot to help as you heal. If you need a brace or assistive walking... RICE 2 /14 It stands for rest, ice, compress, and elevate, and it's the go-to treatment for minor sprains and bruising. Ice the injury as soon as possible and put pressure on it with an elastic... Your doctor will recommend physical therapy to strengthen your ankle and increase your range of motion. You'll get an X-ray about 6 weeks after surgery. If your ankle is healing well, your... Large Scrapes: Cover Them Up 9 /11 Scrapes that cover a large area should be kept moist to help promote healing. Antibiotic ointment or moisture-enhancing bandages, also called occlusive bandages,... Medical Treatment To relieve metatarsalgia pain, the doctor may have you: Stay off your feet. Avoid high impact activities for a while and prop up your injured foot when you can. Ice the...\"\n",
            "\u001b[32;1m\u001b[1;3m[chain/start]\u001b[0m \u001b[1m[1:chain:AgentExecutor > 5:chain:LLMChain] Entering Chain run with input:\n",
            "\u001b[0m[inputs]\n",
            "\u001b[32;1m\u001b[1;3m[llm/start]\u001b[0m \u001b[1m[1:chain:AgentExecutor > 5:chain:LLMChain > 6:llm:OpenAI] Entering LLM run with input:\n",
            "\u001b[0m{\n",
            "  \"prompts\": [\n",
            "    \"Answer the following questions as best you can, but speaking as medical professional. You have access to the following tools:\\n\\nSearch WebMD: useful for when you need to answer medical and pharmalogical questions\\n\\nUse the following format:\\n\\nQuestion: the input question you must answer\\nThought: you should always think about what to do\\nAction: the action to take, should be one of [Search WebMD]\\nAction Input: the input to the action\\nObservation: the result of the action\\n... (this Thought/Action/Action Input/Observation can repeat N times)\\nThought: I now know the final answer\\nFinal Answer: the final answer to the original input question\\n\\nBegin! Remember to answer as a compansionate medical professional when giving your final answer.\\n\\nQuestion: How can I treat a spained ankle?\\nThought: I need to find out what the best treatment is for a sprain.\\nAction: Search WebMD\\nAction Input: \\\"sprained ankle treatment\\\"\\nObservation: If you can't put weight on a sprained or strained knee or ankle, your doctor may suggest a cane, crutch, brace, or walking boot to help as you heal. If you need a brace or assistive walking... RICE 2 /14 It stands for rest, ice, compress, and elevate, and it's the go-to treatment for minor sprains and bruising. Ice the injury as soon as possible and put pressure on it with an elastic... Your doctor will recommend physical therapy to strengthen your ankle and increase your range of motion. You'll get an X-ray about 6 weeks after surgery. If your ankle is healing well, your... Large Scrapes: Cover Them Up 9 /11 Scrapes that cover a large area should be kept moist to help promote healing. Antibiotic ointment or moisture-enhancing bandages, also called occlusive bandages,... Medical Treatment To relieve metatarsalgia pain, the doctor may have you: Stay off your feet. Avoid high impact activities for a while and prop up your injured foot when you can. Ice the...\\nThought:\"\n",
            "  ]\n",
            "}\n",
            "\u001b[36;1m\u001b[1;3m[llm/end]\u001b[0m \u001b[1m[1:chain:AgentExecutor > 5:chain:LLMChain > 6:llm:OpenAI] [12.38s] Exiting LLM run with output:\n",
            "\u001b[0m{\n",
            "  \"generations\": [\n",
            "    [\n",
            "      {\n",
            "        \"text\": \" I now have a better understanding of the best treatment for a sprain.\\nFinal Answer: The best treatment for a sprain is to rest, ice, compress, and elevate the injury (RICE) and to use a cane, crutch, brace, or walking boot to help with mobility. Your doctor may also recommend physical therapy to strengthen the ankle and increase range of motion. Additionally, large scrapes should be kept moist with antibiotic ointment or moisture-enhancing bandages. To relieve metatarsalgia pain, the doctor may recommend staying off your feet and avoiding high impact activities for a while.\",\n",
            "        \"generation_info\": {\n",
            "          \"finish_reason\": \"stop\",\n",
            "          \"logprobs\": null\n",
            "        }\n",
            "      }\n",
            "    ]\n",
            "  ],\n",
            "  \"llm_output\": {\n",
            "    \"token_usage\": {\n",
            "      \"completion_tokens\": 124,\n",
            "      \"prompt_tokens\": 447,\n",
            "      \"total_tokens\": 571\n",
            "    },\n",
            "    \"model_name\": \"text-davinci-003\"\n",
            "  },\n",
            "  \"run\": null\n",
            "}\n",
            "\u001b[36;1m\u001b[1;3m[chain/end]\u001b[0m \u001b[1m[1:chain:AgentExecutor > 5:chain:LLMChain] [12.39s] Exiting Chain run with output:\n",
            "\u001b[0m{\n",
            "  \"text\": \" I now have a better understanding of the best treatment for a sprain.\\nFinal Answer: The best treatment for a sprain is to rest, ice, compress, and elevate the injury (RICE) and to use a cane, crutch, brace, or walking boot to help with mobility. Your doctor may also recommend physical therapy to strengthen the ankle and increase range of motion. Additionally, large scrapes should be kept moist with antibiotic ointment or moisture-enhancing bandages. To relieve metatarsalgia pain, the doctor may recommend staying off your feet and avoiding high impact activities for a while.\"\n",
            "}\n",
            "\u001b[36;1m\u001b[1;3m[chain/end]\u001b[0m \u001b[1m[1:chain:AgentExecutor] [15.73s] Exiting Chain run with output:\n",
            "\u001b[0m{\n",
            "  \"output\": \"The best treatment for a sprain is to rest, ice, compress, and elevate the injury (RICE) and to use a cane, crutch, brace, or walking boot to help with mobility. Your doctor may also recommend physical therapy to strengthen the ankle and increase range of motion. Additionally, large scrapes should be kept moist with antibiotic ointment or moisture-enhancing bandages. To relieve metatarsalgia pain, the doctor may recommend staying off your feet and avoiding high impact activities for a while.\"\n",
            "}\n"
          ]
        },
        {
          "output_type": "execute_result",
          "data": {
            "text/plain": [
              "'The best treatment for a sprain is to rest, ice, compress, and elevate the injury (RICE) and to use a cane, crutch, brace, or walking boot to help with mobility. Your doctor may also recommend physical therapy to strengthen the ankle and increase range of motion. Additionally, large scrapes should be kept moist with antibiotic ointment or moisture-enhancing bandages. To relieve metatarsalgia pain, the doctor may recommend staying off your feet and avoiding high impact activities for a while.'"
            ],
            "application/vnd.google.colaboratory.intrinsic+json": {
              "type": "string"
            }
          },
          "metadata": {},
          "execution_count": 18
        }
      ]
    },
    {
      "cell_type": "code",
      "source": [
        "langchain.debug = False"
      ],
      "metadata": {
        "id": "JcotgIvj_54n"
      },
      "execution_count": 19,
      "outputs": []
    },
    {
      "cell_type": "code",
      "source": [
        "# Set up the base template\n",
        "template_with_history = \"\"\"Answer the following questions as best you can, but speaking as compasionate medical professional. You have access to the following tools:\n",
        "\n",
        "{tools}\n",
        "\n",
        "Use the following format:\n",
        "\n",
        "Question: the input question you must answer\n",
        "Thought: you should always think about what to do\n",
        "Action: the action to take, should be one of [{tool_names}]\n",
        "Action Input: the input to the action\n",
        "Observation: the result of the action\n",
        "... (this Thought/Action/Action Input/Observation can repeat N times)\n",
        "Thought: I now know the final answer\n",
        "Final Answer: the final answer to the original input question\n",
        "\n",
        "Begin! Remember to speak as a compasionate medical professional when giving your final answer. If the condition is serious advise they speak to a doctor.\n",
        "\n",
        "Previous conversation history:\n",
        "{history}\n",
        "\n",
        "New question: {input}\n",
        "{agent_scratchpad}\"\"\""
      ],
      "metadata": {
        "id": "DsApe8WIqaMH"
      },
      "execution_count": 20,
      "outputs": []
    },
    {
      "cell_type": "code",
      "source": [
        "prompt_with_history = CustomPromptTemplate(\n",
        "    template=template_with_history,\n",
        "    tools=tools,\n",
        "    # This omits the `agent_scratchpad`, `tools`, and `tool_names` variables because those are generated dynamically\n",
        "    # This includes the `intermediate_steps` variable because that is needed\n",
        "    input_variables=[\"input\", \"intermediate_steps\", \"history\"]\n",
        ")"
      ],
      "metadata": {
        "id": "4ZbFCdHWqjs_"
      },
      "execution_count": 21,
      "outputs": []
    },
    {
      "cell_type": "code",
      "source": [
        "llm_chain = LLMChain(llm=llm, prompt=prompt_with_history)"
      ],
      "metadata": {
        "id": "Nd8TYJKmqmze"
      },
      "execution_count": 22,
      "outputs": []
    },
    {
      "cell_type": "code",
      "source": [
        "tool_names = [tool.name for tool in tools]\n",
        "agent = LLMSingleActionAgent(\n",
        "    llm_chain=llm_chain,\n",
        "    output_parser=output_parser,\n",
        "    stop=[\"\\nObservation:\"],\n",
        "    allowed_tools=tool_names\n",
        ")"
      ],
      "metadata": {
        "id": "fEFR4Vx_qpYO"
      },
      "execution_count": 23,
      "outputs": []
    },
    {
      "cell_type": "code",
      "source": [
        "from langchain.memory import ConversationBufferWindowMemory\n",
        "\n",
        "memory=ConversationBufferWindowMemory(k=2)"
      ],
      "metadata": {
        "id": "c3slL6vYqrt7"
      },
      "execution_count": 24,
      "outputs": []
    },
    {
      "cell_type": "code",
      "source": [
        "agent_executor = AgentExecutor.from_agent_and_tools(\n",
        "    agent=agent,\n",
        "    tools=tools,\n",
        "    verbose=True,\n",
        "    memory=memory\n",
        "    )"
      ],
      "metadata": {
        "id": "A6Zqkn3aqulq"
      },
      "execution_count": 25,
      "outputs": []
    },
    {
      "cell_type": "code",
      "source": [
        "agent_executor.run(\"How can I treat a swollen ankle?\")"
      ],
      "metadata": {
        "colab": {
          "base_uri": "https://localhost:8080/",
          "height": 305
        },
        "id": "JySasF_8q5Ie",
        "outputId": "13591ac9-b46b-4940-a859-81e4bbac6c5a"
      },
      "execution_count": 26,
      "outputs": [
        {
          "output_type": "stream",
          "name": "stdout",
          "text": [
            "\n",
            "\n",
            "\u001b[1m> Entering new  chain...\u001b[0m\n",
            "\u001b[32;1m\u001b[1;3m\n",
            "Thought: Swelling can be caused by a variety of conditions, so I should research the cause before treating the symptom.\n",
            "Action: Search WebMD\n",
            "Action Input: Swollen ankle\u001b[0m\n",
            "\n",
            "Observation:\u001b[36;1m\u001b[1;3mWeakness, swelling, and pain are the most common myositis symptoms. Myositis causes include infection, injury, autoimmune conditions, and drug side effects. Treatment of myositis varies according ... The outside of the knee and ankle; The top of the foot; Ganglion Cyst Symptoms. ... Swelling that may appear over time or suddenly. It may get smaller in size or even go away and come back. 6. Sudden, intense chest pain could mean the clot has broken off and caused a PE. Or it could be a sign that a clot in your artery gave you a heart attack. If so, you also might feel pain in your ... Gout. It's a form of arthritis that causes sudden pain, redness, swelling, and stiffness. It usually affects the large joint of the big toe, but it also can flare in the foot, ankle, or knees ... Lung congestion can also cause a dry, hacking cough or wheezing. Fluid and water retention. Less blood to your kidneys causes fluid and water retention, resulting in swollen ankles, legs, abdomen ...\u001b[0m\n",
            "\u001b[32;1m\u001b[1;3m I now know the cause of the swollen ankle and the possible treatments.\n",
            "Final Answer: It is important to speak to a doctor to determine the cause of the swollen ankle. Depending on the cause, treatment may include rest, elevation, compression, medications, physical therapy, or surgery.\u001b[0m\n",
            "\n",
            "\u001b[1m> Finished chain.\u001b[0m\n"
          ]
        },
        {
          "output_type": "execute_result",
          "data": {
            "text/plain": [
              "'It is important to speak to a doctor to determine the cause of the swollen ankle. Depending on the cause, treatment may include rest, elevation, compression, medications, physical therapy, or surgery.'"
            ],
            "application/vnd.google.colaboratory.intrinsic+json": {
              "type": "string"
            }
          },
          "metadata": {},
          "execution_count": 26
        }
      ]
    },
    {
      "cell_type": "code",
      "source": [
        "agent_executor.run(\"What meds could I take?\")"
      ],
      "metadata": {
        "colab": {
          "base_uri": "https://localhost:8080/",
          "height": 288
        },
        "id": "VDt8-4F-q9y9",
        "outputId": "f0c16ee6-afc0-48fe-876d-c53d4479abfa"
      },
      "execution_count": 27,
      "outputs": [
        {
          "output_type": "stream",
          "name": "stdout",
          "text": [
            "\n",
            "\n",
            "\u001b[1m> Entering new  chain...\u001b[0m\n",
            "\u001b[32;1m\u001b[1;3mThought: I need to find out what medications could be used to treat a swollen ankle.\n",
            "Action: Search WebMD\n",
            "Action Input: Swollen ankle medications\u001b[0m\n",
            "\n",
            "Observation:\u001b[36;1m\u001b[1;3mThese high blood pressure medications block formation of a hormone that causes blood vessels to narrow, so vessels relax. ACE inhibitors may cause these side effects: A dry, hacking cough that ... Weakness, swelling, and pain are the most common myositis symptoms. Myositis causes include infection, injury, autoimmune conditions, and drug side effects. ... Drugs. Many different medications ... Lung congestion can also cause a dry, hacking cough or wheezing. Fluid and water retention. Less blood to your kidneys causes fluid and water retention, resulting in swollen ankles, legs, abdomen ... Days 1-2: Recovery Begins. 3 /10. Your medical team will ask you to get up and start moving as soon as you can. You'll need to use crutches or a walker, because you have to keep your weight off ... The \"classic triad\" of rhabdomyolysis symptoms are: muscle pain in the shoulders, thighs, or lower back; muscle weakness or trouble moving arms and legs; and dark red or brown urine or ...\u001b[0m\n",
            "\u001b[32;1m\u001b[1;3m I now know the final answer\n",
            "Final Answer: Depending on the cause of the swollen ankle, treatment may include rest, elevation, compression, medications such as ACE inhibitors, physical therapy, or surgery. It is important to speak to a doctor to determine the best course of action.\u001b[0m\n",
            "\n",
            "\u001b[1m> Finished chain.\u001b[0m\n"
          ]
        },
        {
          "output_type": "execute_result",
          "data": {
            "text/plain": [
              "'Depending on the cause of the swollen ankle, treatment may include rest, elevation, compression, medications such as ACE inhibitors, physical therapy, or surgery. It is important to speak to a doctor to determine the best course of action.'"
            ],
            "application/vnd.google.colaboratory.intrinsic+json": {
              "type": "string"
            }
          },
          "metadata": {},
          "execution_count": 27
        }
      ]
    },
    {
      "cell_type": "code",
      "source": [
        "agent_executor.run(\"How long will it take to heal?\")"
      ],
      "metadata": {
        "colab": {
          "base_uri": "https://localhost:8080/",
          "height": 305
        },
        "id": "l30nHUrxrBd7",
        "outputId": "ba7e3f50-95cf-4798-9f1b-b2d6205787f2"
      },
      "execution_count": 28,
      "outputs": [
        {
          "output_type": "stream",
          "name": "stdout",
          "text": [
            "\n",
            "\n",
            "\u001b[1m> Entering new  chain...\u001b[0m\n",
            "\u001b[32;1m\u001b[1;3m\n",
            "Thought: I need to determine the cause of the swollen ankle before I can answer this question.\n",
            "Action: Search WebMD\n",
            "Action Input: Swollen ankle\u001b[0m\n",
            "\n",
            "Observation:\u001b[36;1m\u001b[1;3mWeakness, swelling, and pain are the most common myositis symptoms. Myositis causes include infection, injury, autoimmune conditions, and drug side effects. Treatment of myositis varies according ... The outside of the knee and ankle; The top of the foot; Ganglion Cyst Symptoms. ... Swelling that may appear over time or suddenly. It may get smaller in size or even go away and come back. 6. Sudden, intense chest pain could mean the clot has broken off and caused a PE. Or it could be a sign that a clot in your artery gave you a heart attack. If so, you also might feel pain in your ... Gout. It's a form of arthritis that causes sudden pain, redness, swelling, and stiffness. It usually affects the large joint of the big toe, but it also can flare in the foot, ankle, or knees ... Lung congestion can also cause a dry, hacking cough or wheezing. Fluid and water retention. Less blood to your kidneys causes fluid and water retention, resulting in swollen ankles, legs, abdomen ...\u001b[0m\n",
            "\u001b[32;1m\u001b[1;3m I now know the final answer.\n",
            "Final Answer: The length of time it will take to heal depends on the cause of the swollen ankle. It is important to speak to a doctor to determine the best course of action and to ensure that the condition is properly treated.\u001b[0m\n",
            "\n",
            "\u001b[1m> Finished chain.\u001b[0m\n"
          ]
        },
        {
          "output_type": "execute_result",
          "data": {
            "text/plain": [
              "'The length of time it will take to heal depends on the cause of the swollen ankle. It is important to speak to a doctor to determine the best course of action and to ensure that the condition is properly treated.'"
            ],
            "application/vnd.google.colaboratory.intrinsic+json": {
              "type": "string"
            }
          },
          "metadata": {},
          "execution_count": 28
        }
      ]
    },
    {
      "cell_type": "code",
      "source": [],
      "metadata": {
        "id": "YvLD_1Ek1kmU"
      },
      "execution_count": null,
      "outputs": []
    }
  ]
}